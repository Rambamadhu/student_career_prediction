{
  "nbformat": 4,
  "nbformat_minor": 0,
  "metadata": {
    "colab": {
      "provenance": []
    },
    "kernelspec": {
      "name": "python3",
      "display_name": "Python 3"
    },
    "language_info": {
      "name": "python"
    }
  },
  "cells": [
    {
      "cell_type": "code",
      "source": [
        "import pandas as pd\n",
        "import numpy as np\n",
        "from sklearn.model_selection import train_test_split, RandomizedSearchCV\n",
        "from sklearn.preprocessing import LabelEncoder, StandardScaler\n",
        "from sklearn.ensemble import RandomForestClassifier\n",
        "from sklearn.metrics import accuracy_score, classification_report, confusion_matrix\n",
        "from scipy.stats import randint\n",
        "import joblib"
      ],
      "metadata": {
        "id": "1wLDzQ659d7G"
      },
      "execution_count": null,
      "outputs": []
    },
    {
      "cell_type": "code",
      "source": [
        "\n",
        "# Step 1: Load the dataset\n",
        "file_path = \"data.csv\"  # Replace with your actual file path\n",
        "data = pd.read_csv(file_path)"
      ],
      "metadata": {
        "id": "RPuko4Zd9g3u"
      },
      "execution_count": null,
      "outputs": []
    },
    {
      "cell_type": "code",
      "source": [
        "# Step 2: Explore the dataset\n",
        "print(\"Dataset Shape:\", data.shape)\n",
        "print(\"Dataset Info:\")\n",
        "print(data.info())\n",
        "print(\"First few rows:\")\n",
        "print(data.head())\n"
      ],
      "metadata": {
        "id": "RKfd1Cg29kah"
      },
      "execution_count": null,
      "outputs": []
    },
    {
      "cell_type": "code",
      "source": [
        "# Step 3: Preprocess the data\n",
        "# Handle missing values\n",
        "data.fillna(data.mean(numeric_only=True), inplace=True)\n",
        "data.fillna(method='ffill', inplace=True)"
      ],
      "metadata": {
        "id": "xAZ_s8yg9moz"
      },
      "execution_count": null,
      "outputs": []
    },
    {
      "cell_type": "code",
      "source": [
        "# Encode categorical variables\n",
        "label_encoders = {}\n",
        "for column in data.select_dtypes(include=['object']).columns:\n",
        "    le = LabelEncoder()\n",
        "    data[column] = le.fit_transform(data[column])\n",
        "    label_encoders[column] = le\n"
      ],
      "metadata": {
        "id": "iiTFqNzc9o7q"
      },
      "execution_count": null,
      "outputs": []
    },
    {
      "cell_type": "code",
      "source": [
        "# Separate features (X) and target (y)\n",
        "X = data.drop(\"Role\", axis=1)  # Replace 'TargetColumn' with your target variable's name\n",
        "y = data[\"Role\"]\n",
        "\n",
        "# Standardize the features\n",
        "scaler = StandardScaler()\n",
        "X = scaler.fit_transform(X)\n",
        "\n",
        "# Step 4: Split the data into training and testing sets\n",
        "X_train, X_test, y_train, y_test = train_test_split(X, y, test_size=0.2, random_state=42)\n"
      ],
      "metadata": {
        "id": "GAXCERki9sQb"
      },
      "execution_count": null,
      "outputs": []
    },
    {
      "cell_type": "code",
      "source": [
        "\n",
        "\n",
        "# Step 5: Define the Random Forest model and Randomized Search parameters\n",
        "rf_model = RandomForestClassifier(random_state=42)\n",
        "\n",
        "# Define the parameter distribution\n",
        "param_dist = {\n",
        "    'n_estimators': randint(100, 500),\n",
        "    'max_depth': [10, 20, None],\n",
        "    'min_samples_split': randint(2, 20),\n",
        "    'min_samples_leaf': randint(1, 20),\n",
        "    'bootstrap': [True, False]\n",
        "}\n",
        "\n",
        "# Perform Randomized Search\n",
        "random_search = RandomizedSearchCV(estimator=rf_model, param_distributions=param_dist,\n",
        "                                   n_iter=50, cv=3, scoring='accuracy', verbose=2,\n",
        "                                   n_jobs=-1, random_state=42)\n",
        "random_search.fit(X_train, y_train)\n",
        "\n",
        "# Get the best parameters and model\n",
        "best_params = random_search.best_params_\n",
        "best_model = random_search.best_estimator_\n",
        "\n",
        "print(f\"Best Parameters: {best_params}\")\n",
        "\n",
        "# Step 6: Evaluate the fine-tuned model\n",
        "y_pred_tuned = best_model.predict(X_test)\n",
        "\n",
        "accuracy_tuned = accuracy_score(y_test, y_pred_tuned)\n",
        "print(f\"Tuned Model Accuracy: {accuracy_tuned:.2f}\")\n",
        "\n",
        "print(\"\\nClassification Report:\")\n",
        "print(classification_report(y_test, y_pred_tuned))\n",
        "\n",
        "print(\"\\nConfusion Matrix:\")\n",
        "print(confusion_matrix(y_test, y_pred_tuned))\n",
        "\n",
        "# Step 7: Save the model for future use\n",
        "joblib.dump(best_model, \"fine_tuned_career_model.pkl\")\n",
        "print(\"Fine-tuned model saved as 'fine_tuned_career_model.pkl'\")\n"
      ],
      "metadata": {
        "id": "HGJ9R2Fh8i9i"
      },
      "execution_count": null,
      "outputs": []
    },
    {
      "cell_type": "code",
      "source": [],
      "metadata": {
        "colab": {
          "base_uri": "https://localhost:8080/"
        },
        "id": "Enyhy-Fy9wlb",
        "outputId": "1a9fc056-90cb-4b16-bae1-42a241435d52"
      },
      "execution_count": 103,
      "outputs": [
        {
          "output_type": "execute_result",
          "data": {
            "text/plain": [
              "4"
            ]
          },
          "metadata": {},
          "execution_count": 103
        }
      ]
    }
  ]
}